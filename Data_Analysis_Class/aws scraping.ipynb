{
 "cells": [
  {
   "cell_type": "markdown",
   "id": "ab19f002-e9da-4191-ab86-2ff60d596aa2",
   "metadata": {},
   "source": [
    "# AWS Web Scraping"
   ]
  },
  {
   "cell_type": "code",
   "execution_count": 92,
   "id": "dbb7fe95-d7da-4eb3-95c7-5518656c6cc6",
   "metadata": {
    "tags": []
   },
   "outputs": [],
   "source": [
    "# import Librbaries\n",
    "import pandas as pd\n",
    "from bs4 import BeautifulSoup\n",
    "import requests\n",
    "import time\n",
    "import datetime\n",
    "\n",
    "import smtplib\n",
    "    "
   ]
  },
  {
   "cell_type": "code",
   "execution_count": 94,
   "id": "cb0c8f4f-4e88-4f96-88c3-b568dc7e90ce",
   "metadata": {
    "tags": []
   },
   "outputs": [
    {
     "name": "stdout",
     "output_type": "stream",
     "text": [
      "        Funny Got Data MIS Data Systems Business Analyst T-Shirt       \n",
      " 4.3 \n"
     ]
    }
   ],
   "source": [
    "# URL  = 'https://www.amazon.com/Funny-Data-Systems-Business-Analyst/dp/B07FNW9FGJ/ref=sr_1_5?crid=2NOB5OPRZDP7N&keywords=funny+got+data+t+shirt&qid=1705649708&sprefix=funny+got+data+t+shirt%2Caps%2C321&sr=8-5'\n",
    "\n",
    "# url = 'https://www.jumia.com.ng/'\n",
    "\n",
    "# headers ={ \"User-Agent\": \"Mozilla/5.0 (Windows NT 10.0; Win64; x64) AppleWebKit/537.36 (KHTML, like Gecko) Chrome/120.0.0.0 Safari/537.36 Edg/120.0.0.0\"}\n",
    "# page = requests.get(url, headers = headers)\n",
    "# soup = BeautifulSoup(page.content, 'html.parser')\n",
    "#title = soup.find(id = 'productTitle').get_text()\n",
    "\n",
    "\n",
    "\n",
    "\n",
    "\n",
    "url = 'https://www.amazon.com/Funny-Data-Systems-Business-Analyst/dp/B07FNW9FGJ/ref=sr_1_5?crid=2NOB5OPRZDP7N&keywords=funny+got+data+t+shirt&qid=1705649708&sprefix=funny+got+data+t+shirt%2Caps%2C321&sr=8-5'\n",
    "\n",
    "page = requests.get(url)\n",
    "\n",
    "soup = BeautifulSoup(page.text, 'html')\n",
    "\n",
    "title = soup.find(id = 'productTitle').get_text()\n",
    "rating = soup.find(class_='a-size-base').get_text()\n",
    "\n",
    "\n",
    "\n",
    "print(title)\n",
    "\n",
    "print(rating)\n",
    "\n",
    "\n",
    "\n",
    "#soup1 = BeautifulSoup(page.content, 'html.parser')\n",
    "\n",
    "#soup2 = BeautifulSoup(soup1.prettify(), 'html.parser')\n",
    "\n",
    "#title = soup2.find(id = 'productTitle').get_text()\n",
    "\n"
   ]
  },
  {
   "cell_type": "code",
   "execution_count": null,
   "id": "ed2fcb49-ee9f-48fd-a4d8-f99d6a4254b0",
   "metadata": {},
   "outputs": [],
   "source": []
  },
  {
   "cell_type": "code",
   "execution_count": 95,
   "id": "331a599d-4bfd-4e73-bf4d-75373ff14b48",
   "metadata": {
    "tags": []
   },
   "outputs": [
    {
     "name": "stdout",
     "output_type": "stream",
     "text": [
      "Funny Got Data MIS Data Systems Business Analyst T-Shirt\n",
      "4.3\n"
     ]
    }
   ],
   "source": [
    "# Cleaning Data \n",
    "\n",
    "title = title.strip()\n",
    "rating = rating.strip()\n",
    "\n",
    "print(title)\n",
    "print(rating)\n"
   ]
  },
  {
   "cell_type": "code",
   "execution_count": 90,
   "id": "99edfc74-cce3-4a70-9d39-c80050fa69a8",
   "metadata": {
    "tags": []
   },
   "outputs": [
    {
     "name": "stdout",
     "output_type": "stream",
     "text": [
      "2024-01-19\n"
     ]
    }
   ],
   "source": [
    "# creating timestamp to check when data was collected\n",
    "\n",
    "today = datetime.date.today()\n",
    "print(today)"
   ]
  },
  {
   "cell_type": "code",
   "execution_count": 96,
   "id": "492537ce-a433-499a-9f51-0b3dd78e73f8",
   "metadata": {
    "tags": []
   },
   "outputs": [],
   "source": [
    "import csv \n",
    "\n",
    "header = ['Title', 'Ratings','Date']\n",
    "data = [title,price,today]\n",
    "\n",
    "with open('AWSWebScrapper.csv', 'w', newline='', encoding = 'UTF8') as f:\n",
    "    writer = csv.writer(f)\n",
    "    writer.writerow(header)\n",
    "    writer.writerow(data)\n",
    "    \n",
    "    \n",
    "    "
   ]
  },
  {
   "cell_type": "code",
   "execution_count": 105,
   "id": "ec230d54-7784-4bb6-ab65-1c84eff3555a",
   "metadata": {
    "tags": []
   },
   "outputs": [
    {
     "name": "stdout",
     "output_type": "stream",
     "text": [
      "                                               Title  Ratings        Date\n",
      "0  Funny Got Data MIS Data Systems Business Analy...      4.3  2024-01-19\n",
      "1  Funny Got Data MIS Data Systems Business Analy...      4.3  2024-01-19\n",
      "2  Funny Got Data MIS Data Systems Business Analy...      4.3  2024-01-19\n",
      "3  Funny Got Data MIS Data Systems Business Analy...      4.3  2024-01-19\n",
      "4  Funny Got Data MIS Data Systems Business Analy...      4.3  2024-01-19\n"
     ]
    }
   ],
   "source": [
    "# Reading the collected Data\n",
    "df = pd.read_csv(r\"C:\\Users\\IT SUPPORT M4YORS PC\\Data_Analysis_Class\\AWSWebScrapper.csv\")\n",
    "print(df)\n"
   ]
  },
  {
   "cell_type": "code",
   "execution_count": 104,
   "id": "89154d21-00d8-45d5-af24-82934c6a6ffe",
   "metadata": {},
   "outputs": [],
   "source": [
    "# Now Appending data to the csv\n",
    "\n",
    "with open('AWSWebScrapper.csv', 'a+', newline='', encoding = 'UTF8') as f:\n",
    "    writer = csv.writer(f)\n",
    "   \n",
    "    writer.writerow(data)\n"
   ]
  },
  {
   "cell_type": "code",
   "execution_count": 109,
   "id": "da19ec8d-0f65-4900-8022-bbd05c9d7ede",
   "metadata": {
    "tags": []
   },
   "outputs": [],
   "source": [
    "def check_rating():\n",
    "    url = 'https://www.amazon.com/Funny-Data-Systems-Business-Analyst/dp/B07FNW9FGJ/ref=sr_1_5?crid=2NOB5OPRZDP7N&keywords=funny+got+data+t+shirt&qid=1705649708&sprefix=funny+got+data+t+shirt%2Caps%2C321&sr=8-5'\n",
    "\n",
    "    page = requests.get(url)\n",
    "\n",
    "    soup = BeautifulSoup(page.text, 'html')\n",
    "\n",
    "    title = soup.find(id = 'productTitle').get_text()\n",
    "    rating = soup.find(class_='a-size-base').get_text()\n",
    "    title = title.strip()\n",
    "    rating = rating.strip() \n",
    "    today = datetime.date.today()\n",
    "    \n",
    "    header = ['Title', 'Ratings','Date']\n",
    "    data = [title,price,today]\n",
    "    \n",
    "    with open('AWSWebScrapper.csv', 'a+', newline='', encoding = 'UTF8') as f:\n",
    "        writer = csv.writer(f)\n",
    "   \n",
    "        writer.writerow(data)"
   ]
  },
  {
   "cell_type": "code",
   "execution_count": null,
   "id": "77c6b948-b53e-4ba4-bac7-55e65cf33f46",
   "metadata": {
    "tags": []
   },
   "outputs": [],
   "source": [
    "# Automation \n",
    "while(True):\n",
    "    check_rating()\n",
    "    time.sleep(5)"
   ]
  },
  {
   "cell_type": "code",
   "execution_count": 113,
   "id": "a595e132-d549-438f-be37-ad8d7e2c46ad",
   "metadata": {
    "tags": []
   },
   "outputs": [
    {
     "name": "stdout",
     "output_type": "stream",
     "text": [
      "                                               Title  Ratings        Date\n",
      "0  Funny Got Data MIS Data Systems Business Analy...      4.3  2024-01-19\n",
      "1  Funny Got Data MIS Data Systems Business Analy...      4.3  2024-01-19\n",
      "2  Funny Got Data MIS Data Systems Business Analy...      4.3  2024-01-19\n",
      "3  Funny Got Data MIS Data Systems Business Analy...      4.3  2024-01-19\n",
      "4  Funny Got Data MIS Data Systems Business Analy...      4.3  2024-01-19\n",
      "5  Funny Got Data MIS Data Systems Business Analy...      4.3  2024-01-19\n",
      "6  Funny Got Data MIS Data Systems Business Analy...      4.3  2024-01-19\n",
      "7  Funny Got Data MIS Data Systems Business Analy...      4.3  2024-01-19\n",
      "8  Funny Got Data MIS Data Systems Business Analy...      4.3  2024-01-19\n",
      "9  Funny Got Data MIS Data Systems Business Analy...      4.3  2024-01-19\n"
     ]
    }
   ],
   "source": [
    "# Reading the collected Data\n",
    "df = pd.read_csv(r\"C:\\Users\\IT SUPPORT M4YORS PC\\Data_Analysis_Class\\AWSWebScrapper.csv\")\n",
    "print(df)"
   ]
  },
  {
   "cell_type": "markdown",
   "id": "f934a59d-0a6f-4577-8f74-2164f57f50bb",
   "metadata": {},
   "source": [
    "# Next is Automation with SMTP"
   ]
  },
  {
   "cell_type": "code",
   "execution_count": null,
   "id": "52fbecdb-31cb-4029-86b2-31eeabe19091",
   "metadata": {},
   "outputs": [],
   "source": []
  }
 ],
 "metadata": {
  "kernelspec": {
   "display_name": "Python 3 (ipykernel)",
   "language": "python",
   "name": "python3"
  },
  "language_info": {
   "codemirror_mode": {
    "name": "ipython",
    "version": 3
   },
   "file_extension": ".py",
   "mimetype": "text/x-python",
   "name": "python",
   "nbconvert_exporter": "python",
   "pygments_lexer": "ipython3",
   "version": "3.11.5"
  },
  "widgets": {
   "application/vnd.jupyter.widget-state+json": {
    "state": {},
    "version_major": 2,
    "version_minor": 0
   }
  }
 },
 "nbformat": 4,
 "nbformat_minor": 5
}
