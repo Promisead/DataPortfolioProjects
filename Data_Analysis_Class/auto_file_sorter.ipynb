{
 "cells": [
  {
   "cell_type": "code",
   "execution_count": 9,
   "id": "e336a5f4-7d4b-4a2e-973f-fd7c88427a65",
   "metadata": {
    "tags": []
   },
   "outputs": [],
   "source": [
    "import os,shutil"
   ]
  },
  {
   "cell_type": "code",
   "execution_count": 20,
   "id": "22f0ed32-f251-414c-950d-83f943fcd90b",
   "metadata": {
    "tags": []
   },
   "outputs": [],
   "source": [
    "path = r'C:/Users/IT SUPPORT M4YORS PC/Desktop/1. Tech Videos/DATA ANALYSIS/auto_sort/'"
   ]
  },
  {
   "cell_type": "code",
   "execution_count": 21,
   "id": "b930494e-f24b-4824-8b0e-2737c4b6afa4",
   "metadata": {
    "tags": []
   },
   "outputs": [
    {
     "data": {
      "text/plain": [
       "['csv files',\n",
       " 'Data Cleaning Excel Tutorial.xlsx',\n",
       " 'excel files',\n",
       " 'fake_file.txt',\n",
       " 'jpg files',\n",
       " 'Sales.csv',\n",
       " 'turkey flag.jpg',\n",
       " 'txt files',\n",
       " 'Untitled-1.png']"
      ]
     },
     "execution_count": 21,
     "metadata": {},
     "output_type": "execute_result"
    }
   ],
   "source": [
    "file_name = os.listdir(path)"
   ]
  },
  {
   "cell_type": "code",
   "execution_count": 26,
   "id": "df014e43-d20c-4b22-a7c3-239a5c7fec3a",
   "metadata": {
    "tags": []
   },
   "outputs": [
    {
     "name": "stdout",
     "output_type": "stream",
     "text": [
      "C:/Users/IT SUPPORT M4YORS PC/Desktop/1. Tech Videos/DATA ANALYSIS/auto_sort/jpg files\n"
     ]
    }
   ],
   "source": [
    "folder_names = ['csv files','excel files','jpg files']\n",
    "for loop in range(0,3):\n",
    "        if not os.path.exists(path + folder_names[loop]):\n",
    "            print(path + folder_names[loop])\n",
    "            os.makedirs(path + folder_names[loop])\n",
    "\n",
    "\n"
   ]
  },
  {
   "cell_type": "code",
   "execution_count": 30,
   "id": "06533f8c-7a57-4e60-a03e-d9d80b6e62ce",
   "metadata": {
    "tags": []
   },
   "outputs": [],
   "source": [
    "file_name = os.listdir(path)\n",
    "\n",
    "for file in file_name:\n",
    "    if '.csv' in file and not os.path.exists(path + 'csv files/' + file):\n",
    "        shutil.move(path + file, path + 'csv files/' + file)\n",
    "    elif '.jpg' in file and not os.path.exists(path + 'jpg files/' + file):\n",
    "        shutil.move(path + file, path + 'jpg files/' + file)\n",
    "    elif '.txt' in file and not os.path.exists(path + 'txt files/' + file):\n",
    "        shutil.move(path + file, path + 'txt files/' + file)\n",
    "    elif '.xlsx' in file and not os.path.exists(path + 'excel files/' + file):\n",
    "        shutil.move(path + file, path + 'excel files/' + file)\n",
    "    elif '.png' in file and not os.path.exists(path + 'jpg files/' + file):\n",
    "        shutil.move(path + file, path + 'jpg files/' + file)\n",
    "        "
   ]
  },
  {
   "cell_type": "code",
   "execution_count": null,
   "id": "a564fac7-1519-4e99-9a0d-b30da0db8790",
   "metadata": {},
   "outputs": [],
   "source": []
  }
 ],
 "metadata": {
  "kernelspec": {
   "display_name": "Python 3 (ipykernel)",
   "language": "python",
   "name": "python3"
  },
  "language_info": {
   "codemirror_mode": {
    "name": "ipython",
    "version": 3
   },
   "file_extension": ".py",
   "mimetype": "text/x-python",
   "name": "python",
   "nbconvert_exporter": "python",
   "pygments_lexer": "ipython3",
   "version": "3.11.5"
  },
  "widgets": {
   "application/vnd.jupyter.widget-state+json": {
    "state": {},
    "version_major": 2,
    "version_minor": 0
   }
  }
 },
 "nbformat": 4,
 "nbformat_minor": 5
}
