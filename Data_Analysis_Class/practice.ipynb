{
 "cells": [
  {
   "cell_type": "code",
   "execution_count": null,
   "id": "ab2356f7-90f7-4d53-90d2-3ca06b271cf5",
   "metadata": {},
   "outputs": [],
   "source": []
  },
  {
   "cell_type": "code",
   "execution_count": 1,
   "id": "04d5a22f-76b6-488b-ae72-ab36c3e1c5e7",
   "metadata": {
    "tags": []
   },
   "outputs": [],
   "source": [
    "#creating a function\n",
    "\n",
    "def sum():\n",
    "    print(4+6)"
   ]
  },
  {
   "cell_type": "code",
   "execution_count": 2,
   "id": "fb1ddc19-5b57-4041-a336-e53c8653d7ef",
   "metadata": {
    "tags": []
   },
   "outputs": [
    {
     "name": "stdout",
     "output_type": "stream",
     "text": [
      "10\n"
     ]
    }
   ],
   "source": [
    "# Call the function\n",
    "sum()"
   ]
  },
  {
   "cell_type": "code",
   "execution_count": 3,
   "id": "4facd9db-0936-47d9-9a2a-9f568a3fd379",
   "metadata": {
    "tags": []
   },
   "outputs": [],
   "source": [
    "#create function with parameters\n",
    "def sum(x,y):\n",
    "    print(x+y)"
   ]
  },
  {
   "cell_type": "code",
   "execution_count": 4,
   "id": "484fe257-def8-42c4-a3c4-7ac90d7f7ca9",
   "metadata": {
    "tags": []
   },
   "outputs": [
    {
     "name": "stdout",
     "output_type": "stream",
     "text": [
      "7\n"
     ]
    }
   ],
   "source": [
    "#call the function with arguments\n",
    "sum(2,5)"
   ]
  },
  {
   "cell_type": "code",
   "execution_count": 5,
   "id": "4015be7e-07ff-4cfd-bc65-d5ecfff3b567",
   "metadata": {
    "tags": []
   },
   "outputs": [
    {
     "name": "stdout",
     "output_type": "stream",
     "text": [
      "11\n"
     ]
    }
   ],
   "source": [
    "sum(5,6)"
   ]
  },
  {
   "cell_type": "code",
   "execution_count": 6,
   "id": "9e9eae8d-9bda-4bb8-8a28-f3b8751293c2",
   "metadata": {
    "tags": []
   },
   "outputs": [
    {
     "name": "stdout",
     "output_type": "stream",
     "text": [
      "3000\n"
     ]
    }
   ],
   "source": [
    "sum(1000,2000)"
   ]
  }
 ],
 "metadata": {
  "kernelspec": {
   "display_name": "Python 3 (ipykernel)",
   "language": "python",
   "name": "python3"
  },
  "language_info": {
   "codemirror_mode": {
    "name": "ipython",
    "version": 3
   },
   "file_extension": ".py",
   "mimetype": "text/x-python",
   "name": "python",
   "nbconvert_exporter": "python",
   "pygments_lexer": "ipython3",
   "version": "3.11.5"
  },
  "widgets": {
   "application/vnd.jupyter.widget-state+json": {
    "state": {},
    "version_major": 2,
    "version_minor": 0
   }
  }
 },
 "nbformat": 4,
 "nbformat_minor": 5
}
